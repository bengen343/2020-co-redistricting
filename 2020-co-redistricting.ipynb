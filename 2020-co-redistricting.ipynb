{
 "cells": [
  {
   "cell_type": "code",
   "execution_count": null,
   "metadata": {},
   "outputs": [],
   "source": [
    "import glob\n",
    "import pickle\n",
    "\n",
    "import numpy as np\n",
    "import matplotlib.pyplot as plt\n",
    "import matplotlib.patheffects as PathEffects\n",
    "import pandas as pd\n",
    "import geopandas as gpd\n",
    "\n",
    "from datetime import timedelta, datetime\n",
    "from matplotlib.colors import ListedColormap\n",
    "from PIL import Image"
   ]
  },
  {
   "cell_type": "code",
   "execution_count": null,
   "metadata": {},
   "outputs": [],
   "source": [
    "# Define global variables\n",
    "\n",
    "# Voter file variables\n",
    "# This should be the full path to where all the CO voter file... files live.\n",
    "voter_file_directory = r'D:\\Users\\bengen343\\Documents\\Registration'\n",
    "\n",
    "# The voter file contains a lot of information that's irrelevant for our purposes.\n",
    "# Here we define the fields within the voter file that we'd like to keep\n",
    "dimension_list = [\n",
    "    'VOTER_ID',\n",
    "    'COUNTY',\n",
    "    'PRECINCT',\n",
    "    'PARTY',\n",
    "    'PREFERENCE',\n",
    "    'CONGRESSIONAL',\n",
    "    'STATE_SENATE',\n",
    "    'STATE_HOUSE'\n",
    "]\n",
    "\n",
    "merged_dimension_list = [\n",
    "    'New Congressional',\n",
    "    'New State Senate',\n",
    "    'New State House',\n",
    "    'VOTER_ID',\n",
    "    'COUNTY',\n",
    "    'PRECINCT',\n",
    "    'PARTY',\n",
    "    'PREFERENCE',\n",
    "    'CONGRESSIONAL',\n",
    "    'STATE_SENATE',\n",
    "    'STATE_HOUSE',\n",
    "    'District',\n",
    "    'rtla-12',\n",
    "    'rtla-14',\n",
    "    'rtla-16',\n",
    "    'rtla-18',\n",
    "    'rtla-20',\n",
    "    'rtla-trend',\n",
    "    'r-margin-12',\n",
    "    'r-margin-14',\n",
    "    'r-margin-16',\n",
    "    'r-margin-18',\n",
    "    'r-margin-20',\n",
    "    'Inflection',\n",
    "    'Latitude',\n",
    "    'Longitude',\n",
    "    'geometry'\n",
    "]\n",
    "\n",
    "# Performance history files\n",
    "# These CSV files have the historic legislative electoral outcomes, RTLA measures, and implied\n",
    "# inflection point for each district.\n",
    "# The methodology for calculating this data is outlined in two posts:\n",
    "# https://www.constellationpolitical.com/blog/sd20-fallacy/ \n",
    "# https://www.constellationpolitical.com/blog/how-republicans-will-lose-2020-reapportionment/\n",
    "hd_csv = r'D:\\Users\\bengen343\\Documents\\Constellation Political\\Python\\2020-co-redistricting\\hd-rtla.csv'\n",
    "sd_csv = r'D:\\Users\\bengen343\\Documents\\Constellation Political\\Python\\2020-co-redistricting\\sd-rtla.csv'\n",
    "\n",
    "# Map files\n",
    "co_congress_shp = r'W:\\My Documents\\2020 Redistricting\\Conressional - First Staff Plan - 20210902\\First_Staff_Congressional_Final_20210902.shp'\n",
    "co_senate_shp = r'D:\\Users\\bengen343\\Documents\\Constellation Political\\Python\\2020-co-redistricting\\State Senate - First Staff Plan - 20210913\\First_Senate_Staff_Plan_Final.shp'\n",
    "co_house_shp = r'D:\\Users\\bengen343\\Documents\\Constellation Political\\Python\\2020-co-redistricting\\State House - First Staff Plan - 20210913\\First_House_Staff_Plan_Final.shp'\n",
    "co_county_map = r'W:\\My Documents\\Counties84\\Counties84.shp'\n",
    "\n",
    "# Map Variables\n",
    "im = Image.open(r'D:\\Users\\bengen343\\Documents\\Constellation Political\\Constellation Operations\\Graphics\\CPC Star in LIne.png')\n",
    "    "
   ]
  },
  {
   "cell_type": "code",
   "execution_count": null,
   "metadata": {},
   "outputs": [],
   "source": [
    "# Function to take all the seperate files of the current voter file and assemble them into one dataframe\n",
    "def voterfile_to_df(voter_file_directory):\n",
    "    print(f\"Beginning to import current voter file at {datetime.strftime(datetime.now(), '%H:%M:%S')}\")\n",
    "          \n",
    "    _allFiles = glob.glob(voter_file_directory + '/*.txt')\n",
    "    _df = pd.DataFrame()\n",
    "    _list = []\n",
    "          \n",
    "    for _file in _allFiles:\n",
    "          _df = pd.read_csv(\n",
    "              _file, sep=',', \n",
    "              encoding='cp437', \n",
    "              index_col=None, \n",
    "              header=0, \n",
    "              low_memory=False, \n",
    "              error_bad_lines=False\n",
    "          )\n",
    "          \n",
    "          _list.append(_df)\n",
    "    \n",
    "    _output_df = pd.concat(_list)\n",
    "    _output_df.reset_index(drop=True, inplace=True)\n",
    "          \n",
    "    # Output the number registered voters, should take 1-3 minutes probably\n",
    "    print(f\"Total Registration: {len(_output_df):,}\")\n",
    "    print(f\"Current voter file loaded at {datetime.strftime(datetime.now(), '%H:%M:%S')}\")\n",
    "          \n",
    "    return(_output_df)"
   ]
  },
  {
   "cell_type": "code",
   "execution_count": null,
   "metadata": {},
   "outputs": [],
   "source": [
    "# Load a data frame of the current voter file\n",
    "voter_file_df = voterfile_to_df(voter_file_directory)"
   ]
  },
  {
   "cell_type": "code",
   "execution_count": null,
   "metadata": {},
   "outputs": [],
   "source": [
    "# Narrow the voter file data to only those fields that we're interested in\n",
    "voter_file_df = voter_file_df[dimension_list]"
   ]
  },
  {
   "cell_type": "code",
   "execution_count": null,
   "metadata": {},
   "outputs": [],
   "source": [
    "# Replace minor party designations with 'OTH'\n",
    "voter_file_df.loc[((voter_file_df['PARTY'] != 'REP') & (voter_file_df['PARTY'] != 'DEM') & \n",
    "                  (voter_file_df['PARTY'] != 'UAF')), 'PARTY'] = 'OTH'"
   ]
  },
  {
   "cell_type": "code",
   "execution_count": null,
   "metadata": {},
   "outputs": [],
   "source": [
    "# Load dataframes for the HD & SD historic performance\n",
    "hd_df = pd.DataFrame()\n",
    "hd_df = pd.read_csv (hd_csv, sep=',' ,index_col=None, header=0, low_memory=False)\n",
    "\n",
    "sd_df = pd.DataFrame()\n",
    "sd_df = pd.read_csv (sd_csv, sep=',' ,index_col=None, header=0, low_memory=False)"
   ]
  },
  {
   "cell_type": "markdown",
   "metadata": {},
   "source": [
    "The core of this methodology is to break down a districts performance to its constituent elements -- its voters -- and then reassemble those into the newly drawn district to see how the new district would behave based on the prior behavior of its new voters. To do this, we'll start by matching each legislative district's past performance to each voter within that district.\n",
    "\n",
    "I'm mostly going to rely on data from House Districts because they're the smallest geography that isn't impacted by external race dynamics."
   ]
  },
  {
   "cell_type": "code",
   "execution_count": null,
   "metadata": {},
   "outputs": [],
   "source": [
    "# Match the historic HD data to each voter within the district\n",
    "voter_file_df = pd.merge(voter_file_df, hd_df, how='left', left_on='STATE_HOUSE', right_on='District')"
   ]
  },
  {
   "cell_type": "code",
   "execution_count": null,
   "metadata": {},
   "outputs": [],
   "source": [
    "# Import the map files\n",
    "co_congress_map = gpd.read_file(co_congress_shp)\n",
    "co_congress_map = co_congress_map.rename(columns={'DISTRICT':'New Congressional'})\n",
    "\n",
    "co_senate_map = gpd.read_file(co_senate_shp)\n",
    "co_senate_map = co_senate_map.rename(columns={'DISTRICT':'New State Senate'})\n",
    "\n",
    "co_house_map = gpd.read_file(co_house_shp)\n",
    "co_house_map = co_house_map.rename(columns={'DISTRICT':'New State House'})"
   ]
  },
  {
   "cell_type": "code",
   "execution_count": null,
   "metadata": {},
   "outputs": [],
   "source": [
    "# Create a geometric file out of the coordinates for the individual voters\n",
    "voter_file_gpd = gpd.GeoDataFrame(voter_file_df, geometry=gpd.points_from_xy(voter_file_df['Longitude'], voter_file_df['Latitude'], crs='EPSG:4326'))"
   ]
  },
  {
   "cell_type": "code",
   "execution_count": null,
   "metadata": {},
   "outputs": [],
   "source": [
    "# Match the voters into their new districts\n",
    "voter_file_new_gpd = gpd.sjoin(co_congress_map, voter_file_gpd, how='right')"
   ]
  },
  {
   "cell_type": "code",
   "execution_count": null,
   "metadata": {},
   "outputs": [],
   "source": [
    "voter_file_new_gpd = gpd.sjoin(co_senate_map, voter_file_gpd, how='right')"
   ]
  },
  {
   "cell_type": "code",
   "execution_count": null,
   "metadata": {},
   "outputs": [],
   "source": [
    "voter_file_new_gpd = gpd.sjoin(co_house_map, voter_file_gpd, how='right')"
   ]
  },
  {
   "cell_type": "code",
   "execution_count": null,
   "metadata": {},
   "outputs": [],
   "source": [
    "voter_file_new_gpd = voter_file_new_gpd[merged_dimension_list]"
   ]
  },
  {
   "cell_type": "code",
   "execution_count": null,
   "metadata": {},
   "outputs": [],
   "source": [
    "# Group the districts together and calculate the new average performance\n",
    "voter_file_new_gpd[['New Congressional', 'rtla-12', 'rtla-14', 'rtla-16', 'rtla-18', 'rtla-20',  'rtla-trend', 'Inflection']].groupby('New Congressional').mean()"
   ]
  },
  {
   "cell_type": "code",
   "execution_count": null,
   "metadata": {},
   "outputs": [],
   "source": [
    "# Group the districts together and count the new party registration\n",
    "voter_file_new_gpd[['New Congressional', 'PARTY', 'VOTER_ID']].groupby(['New Congressional', 'PARTY']).count()"
   ]
  },
  {
   "cell_type": "code",
   "execution_count": null,
   "metadata": {},
   "outputs": [],
   "source": [
    "# Group the districts together and calculate the new average performance\n",
    "voter_file_new_gpd[['New State Senate', 'rtla-12', 'rtla-14', 'rtla-16', 'rtla-18', 'rtla-20',  'rtla-trend', 'Inflection']].groupby('New State Senate').mean()"
   ]
  },
  {
   "cell_type": "code",
   "execution_count": null,
   "metadata": {},
   "outputs": [],
   "source": [
    "# Group the districts together and count the new party registration\n",
    "voter_file_new_gpd[['New State Senate', 'PARTY', 'VOTER_ID']].groupby(['New State Senate', 'PARTY']).count()"
   ]
  },
  {
   "cell_type": "code",
   "execution_count": null,
   "metadata": {},
   "outputs": [],
   "source": [
    "# Group the districts together and calculate the new average performance\n",
    "voter_file_new_gpd[['New State House', 'rtla-12', 'rtla-14', 'rtla-16', 'rtla-18', 'rtla-20',  'rtla-trend', 'Inflection']].groupby('New State House').mean()"
   ]
  },
  {
   "cell_type": "code",
   "execution_count": null,
   "metadata": {},
   "outputs": [],
   "source": [
    "# Group the districts together and count the new party registration\n",
    "voter_file_new_gpd[['New State House', 'PARTY', 'VOTER_ID']].groupby(['New State House', 'PARTY']).count()"
   ]
  },
  {
   "cell_type": "code",
   "execution_count": null,
   "metadata": {},
   "outputs": [],
   "source": [
    "# Define a function to map the outcome in different years.\n",
    "def create_map(_map='', _column='', _year='22'):\n",
    "    # Import global variables. These are mostly paths to files that might move around.\n",
    "    global co_county_map\n",
    "    global im\n",
    "    \n",
    "    # Define map colors. Just Red & Blue for REP/DEM outcome\n",
    "    _cmap = ListedColormap(['#036ED2', '#D30803'], name='REP', N=2)\n",
    "    \n",
    "    # Initiate the plot for the map\n",
    "    _f, _ax = plt.subplots(figsize=(13,15), dpi=300)\n",
    "    \n",
    "    # Merge the turnout data into the map\n",
    "    _mean_df = voter_file_new_gpd[[_column, 'rtla-12', 'rtla-14', 'rtla-16', 'rtla-18', 'rtla-20',  'rtla-trend', 'Inflection']].groupby(_column).mean()\n",
    "    _map = pd.merge(_map, _mean_df, how='left', on=_column)\n",
    "    \n",
    "    # Calculate where RTLA will be in the year in question.\n",
    "    # This is just the trend times the number of cycles that have elapsed\n",
    "    _map['rtla-' + _year] = _map['rtla-20'] + (_map['rtla-trend'] * (int(_year) - 20) / 2)\n",
    "    _map['outcome-' + _year] = np.where(_map['rtla-' + _year] > _map['Inflection'], 'DEM', 'REP')\n",
    "        \n",
    "    # Plot the map for the districts/year in question\n",
    "    _map.plot(ax=_ax, column='outcome-' + _year, cmap=_cmap, linewidth=2.0, edgecolor='white')\n",
    "    \n",
    "    # Add in a faint map of the county borders to give better geographic context\n",
    "    _counties = gpd.GeoDataFrame.from_file(co_county_map)\n",
    "    _counties.plot(ax=_ax, facecolor='none', edgecolor='grey', linewidth=0.5)\n",
    "    \n",
    "    # Identify the coordinates for where labels should appear on the map\n",
    "    _map['coords'] = _map['geometry'].apply(lambda x: x.representative_point().coords[:])\n",
    "    _map['coords'] = [coords[0] for coords in _map['coords']]\n",
    "\n",
    "    # Label and format the labels for the districts\n",
    "    for idx, row in _map.iterrows():\n",
    "        plt.annotate(text=row[_column], xy=row['coords'], horizontalalignment='center', \n",
    "                     fontsize=12).set_path_effects([PathEffects.withStroke(linewidth=3, foreground='w')])\n",
    "    \n",
    "    # Set plot layout parameters\n",
    "    _ax.set_axis_off()\n",
    "    plt.tight_layout()\n",
    "    \n",
    "    # Set the plot title\n",
    "    _ax.set_title(\"'\" + _year + \" Likely Election Results\", fontname='Lato', fontsize='24')\n",
    "    \n",
    "    #Add watermark and webpage\n",
    "    im = im.resize((2000,2000))\n",
    "    plt.figimage(im, 1000, 500, alpha=0.20, zorder=3)\n",
    "    plt.figtext(0.5, 0.805, \"www.ConstellationPolitical.com\", ha='center', va='center', fontname='Lato', fontsize='14', \n",
    "                color='#686C6D')\n",
    "    \n",
    "    # Export to image file\n",
    "    plt.savefig(_year + ' ' + _column.split(' ')[-1].lower() +'_outcome_map.png',  pad_inches=0, bbox_inches='tight')"
   ]
  },
  {
   "cell_type": "code",
   "execution_count": null,
   "metadata": {
    "scrolled": true
   },
   "outputs": [],
   "source": [
    "create_map(_map=co_congress_map, _column='New Congressional', _year='22')"
   ]
  },
  {
   "cell_type": "code",
   "execution_count": null,
   "metadata": {},
   "outputs": [],
   "source": [
    "create_map(_map=co_senate_map, _column='New State Senate', _year='30')"
   ]
  },
  {
   "cell_type": "code",
   "execution_count": null,
   "metadata": {},
   "outputs": [],
   "source": [
    "create_map(_map=co_house_map, _column='New State House', _year='30')"
   ]
  },
  {
   "cell_type": "code",
   "execution_count": null,
   "metadata": {},
   "outputs": [],
   "source": [
    "# Create CPC histogram\n",
    "def create_histogram(df='', race='', district='', rtla=''):\n",
    "    # Import global variables\n",
    "    global im\n",
    "    \n",
    "    # Scope data\n",
    "    df = df[df[race] == district]\n",
    "    _column = df[rtla]\n",
    "    \n",
    "    # Get some basic descriptive statisticts\n",
    "    _mean = _column.mean()\n",
    "    _med = _column.median()\n",
    "    _std = _column.std()\n",
    "    _inflection = df['Inflection'].mean()\n",
    "    \n",
    "    # Define the size of the plot area\n",
    "    _fig, _ax = plt.subplots(figsize=(10, 6), dpi=75)\n",
    "    \n",
    "    # Plot data for y-axis \n",
    "    _column.plot(kind='hist', density=False, bins=20, color='#036ED2', edgecolor='white')\n",
    "    \n",
    "    # Plot descriptive statistic markers\n",
    "    _trans = _ax.get_xaxis_transform()\n",
    "    # Mean\n",
    "    plt.axvline(x=_mean, color='#D30803')\n",
    "    plt.text(_mean + 0.5, 0.5, ('Mean: '  + \"{0:,.1f}\".format(_mean)), rotation=90, color='#D30803', transform=_trans).set_path_effects([PathEffects.withStroke(linewidth=2, foreground='white')])\n",
    "    # Standard Deviation\n",
    "    plt.axvline(x=(_mean + _std), linestyle='dashed', color='#D30803')\n",
    "    plt.axvline(x=(_mean - _std), linestyle='dashed', color='#D30803')\n",
    "    plt.text(_mean + _std + 0.5, 0.5, 'Std. Dev.', rotation=90, color='#D30803', transform=_trans).set_path_effects([PathEffects.withStroke(linewidth=2, foreground='white')])\n",
    "    # Inflection\n",
    "    plt.axvline(x=_inflection, color='#6103D3')\n",
    "    plt.text(_inflection + 0.5, 0.5, ('Inflection: ' + \"{0:,.1f}\".format(_inflection)), rotation=90, color='#6103D3', transform=_trans).set_path_effects([PathEffects.withStroke(linewidth=2, foreground='white')])\n",
    "    \n",
    "    # Inflection point\n",
    "    plt.axvline(x=_mean, color='#D30803')\n",
    "    plt.text(_mean + 0.5, 0.5, 'Mean', rotation=90, color='#D30803', transform=_trans).set_path_effects([PathEffects.withStroke(linewidth=2, foreground='white')])\n",
    "    \n",
    "    # Set the labels and formatting for y-axis\n",
    "    _ax.set_ylabel(\"Count\", fontname='Lato', fontsize='12')\n",
    "    _ax.set_yticklabels(_ax.get_yticks(), fontsize=12)\n",
    "    _ax.yaxis.grid(which='major')\n",
    "    _ax.get_yaxis().set_major_formatter(plt.FuncFormatter(lambda x, loc: \"{:,}\".format(int(x))))\n",
    "    \n",
    "    # Set x axes formatting\n",
    "    _ax.set_xlabel(\"Bin\", fontname='Lato', fontsize='12')\n",
    "    plt.xticks(fontsize=12)\n",
    "    \n",
    "    # Set plot layout parameters\n",
    "    plt.tight_layout()\n",
    "    plt.subplots_adjust(top=0.93)\n",
    "    \n",
    "    # Set plot title\n",
    "    plt.suptitle(race.split(' ')[-1] + '-' + str(district) + ' ' + _column.name.upper() + \" Performance Distribution\", \n",
    "                 fontname='Lato', fontsize='16', x=0.56)\n",
    "    plt.figtext(0.56, 0.910, 'www.ConstellationPolitical.com', ha='center', va='center', fontname='Lato', \n",
    "                fontsize='9',color='#686C6D')\n",
    "    \n",
    "    # Set watermark\n",
    "    im = im.resize((277,277))\n",
    "    plt.figimage(im, 280, 100, alpha=0.20, zorder=10)\n",
    "    \n",
    "    plt.savefig(race.split(' ')[-1].lower() + '-' + str(district) + '-histogram.png')"
   ]
  },
  {
   "cell_type": "code",
   "execution_count": null,
   "metadata": {},
   "outputs": [],
   "source": [
    "create_histogram(df=voter_file_new_gpd, race='New Congressional', district=8, rtla='rtla-20')"
   ]
  },
  {
   "cell_type": "code",
   "execution_count": null,
   "metadata": {},
   "outputs": [],
   "source": []
  }
 ],
 "metadata": {
  "kernelspec": {
   "display_name": "Python 3",
   "language": "python",
   "name": "python3"
  },
  "language_info": {
   "codemirror_mode": {
    "name": "ipython",
    "version": 3
   },
   "file_extension": ".py",
   "mimetype": "text/x-python",
   "name": "python",
   "nbconvert_exporter": "python",
   "pygments_lexer": "ipython3",
   "version": "3.7.3"
  }
 },
 "nbformat": 4,
 "nbformat_minor": 2
}
